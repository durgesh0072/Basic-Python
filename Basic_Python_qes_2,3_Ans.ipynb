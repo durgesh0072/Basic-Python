{
 "cells": [
  {
   "cell_type": "code",
   "execution_count": 2,
   "metadata": {
    "ExecuteTime": {
     "end_time": "2021-05-17T13:07:33.567716Z",
     "start_time": "2021-05-17T13:07:33.527713Z"
    }
   },
   "outputs": [
    {
     "name": "stdout",
     "output_type": "stream",
     "text": [
      "[50, 70, 30, 20, 90, 10, 50]\n"
     ]
    }
   ],
   "source": [
    "# Lst[ Initial : End : IndexJump ]\n",
    "# positive indexes\n",
    "# Initialize list\n",
    "Lst = [50, 70, 30, 20, 90, 10, 50]\n",
    "  \n",
    "# Display list\n",
    "print(Lst[::])"
   ]
  },
  {
   "cell_type": "code",
   "execution_count": 3,
   "metadata": {
    "ExecuteTime": {
     "end_time": "2021-05-17T13:08:05.546545Z",
     "start_time": "2021-05-17T13:08:05.529544Z"
    }
   },
   "outputs": [
    {
     "name": "stdout",
     "output_type": "stream",
     "text": [
      "[50, 70, 30, 20, 90, 10, 50]\n"
     ]
    }
   ],
   "source": [
    "# Negative indexes\n",
    "# Initialize list\n",
    "Lst = [50, 70, 30, 20, 90, 10, 50]\n",
    "  \n",
    "# Display list\n",
    "print(Lst[-7::1])"
   ]
  },
  {
   "cell_type": "code",
   "execution_count": 4,
   "metadata": {
    "ExecuteTime": {
     "end_time": "2021-05-17T13:10:05.931430Z",
     "start_time": "2021-05-17T13:10:05.903429Z"
    }
   },
   "outputs": [
    {
     "name": "stdout",
     "output_type": "stream",
     "text": [
      "[70, 30, 20, 90]\n"
     ]
    }
   ],
   "source": [
    "# slicing\n",
    "# Initialize list\n",
    "Lst = [50, 70, 30, 20, 90, 10, 50]\n",
    "  \n",
    "# Display list\n",
    "print(Lst[1:5])"
   ]
  },
  {
   "cell_type": "code",
   "execution_count": 5,
   "metadata": {
    "ExecuteTime": {
     "end_time": "2021-05-17T13:10:58.334428Z",
     "start_time": "2021-05-17T13:10:58.300426Z"
    }
   },
   "outputs": [
    {
     "name": "stdout",
     "output_type": "stream",
     "text": [
      "\n",
      "Original List:\n",
      " [1, 2, 3, 4, 5, 6, 7, 8, 9]\n",
      "\n",
      "Sliced Lists: \n",
      "[4, 6, 8]\n",
      "[1, 3, 5, 7, 9]\n",
      "[1, 2, 3, 4, 5, 6, 7, 8, 9]\n"
     ]
    }
   ],
   "source": [
    "# Initialize list\n",
    "List = [1, 2, 3, 4, 5, 6, 7, 8, 9]\n",
    "  \n",
    "# Show original list\n",
    "print(\"\\nOriginal List:\\n\", List)\n",
    "  \n",
    "print(\"\\nSliced Lists: \")\n",
    "  \n",
    "# Display sliced list\n",
    "print(List[3:9:2])\n",
    "  \n",
    "# Display sliced list\n",
    "print(List[::2])\n",
    "  \n",
    "# Display sliced list\n",
    "print(List[::])"
   ]
  },
  {
   "cell_type": "code",
   "execution_count": 6,
   "metadata": {
    "ExecuteTime": {
     "end_time": "2021-05-17T13:11:33.154419Z",
     "start_time": "2021-05-17T13:11:33.121417Z"
    }
   },
   "outputs": [
    {
     "name": "stdout",
     "output_type": "stream",
     "text": [
      "\n",
      "Original List:\n",
      " ['Geeks', 4, 'geeks !']\n",
      "\n",
      "Sliced Lists: \n",
      "['geeks !', 4, 'Geeks']\n",
      "['geeks !']\n",
      "['geeks !']\n"
     ]
    }
   ],
   "source": [
    "# Initialize list\n",
    "List = ['Geeks', 4, 'geeks !']\n",
    "  \n",
    "# Show original list\n",
    "print(\"\\nOriginal List:\\n\", List)\n",
    "  \n",
    "print(\"\\nSliced Lists: \")\n",
    "  \n",
    "# Display sliced list\n",
    "print(List[::-1])\n",
    "  \n",
    "# Display sliced list\n",
    "print(List[::-3])\n",
    "  \n",
    "# Display sliced list\n",
    "print(List[:1:-2])"
   ]
  },
  {
   "cell_type": "code",
   "execution_count": 7,
   "metadata": {
    "ExecuteTime": {
     "end_time": "2021-05-17T13:11:58.787885Z",
     "start_time": "2021-05-17T13:11:58.739883Z"
    }
   },
   "outputs": [
    {
     "name": "stdout",
     "output_type": "stream",
     "text": [
      "\n",
      "Original List:\n",
      " [-999, 'G4G', 1706256, '^_^', 3.1496]\n",
      "\n",
      "Sliced Lists: \n",
      "[]\n",
      "[]\n",
      "[]\n",
      "[]\n"
     ]
    }
   ],
   "source": [
    "# Initialize list\n",
    "List = [-999, 'G4G', 1706256, '^_^', 3.1496]\n",
    "  \n",
    "# Show original list\n",
    "print(\"\\nOriginal List:\\n\", List)\n",
    "  \n",
    "print(\"\\nSliced Lists: \")\n",
    "  \n",
    "# Display sliced list\n",
    "print(List[10::2])\n",
    "  \n",
    "# Display sliced list\n",
    "print(List[1:1:1])\n",
    "  \n",
    "# Display sliced list\n",
    "print(List[-1:-1:-1])\n",
    "  \n",
    "# Display sliced list\n",
    "print(List[:0:])"
   ]
  },
  {
   "cell_type": "code",
   "execution_count": 8,
   "metadata": {
    "ExecuteTime": {
     "end_time": "2021-05-17T13:13:03.889609Z",
     "start_time": "2021-05-17T13:13:03.855607Z"
    }
   },
   "outputs": [
    {
     "name": "stdout",
     "output_type": "stream",
     "text": [
      "\n",
      "Original List:\n",
      " [-999, 'G4G', 1706256, 3.1496, '^_^']\n",
      "\n",
      "Sliced Lists: \n",
      "[-999, 'G4G', 'Geeks', 'for', 'Geeks', '!', '^_^']\n",
      "['^_^']\n"
     ]
    }
   ],
   "source": [
    "# Initialize list\n",
    "List = [-999, 'G4G', 1706256, 3.1496, '^_^']\n",
    "  \n",
    "# Show original list\n",
    "print(\"\\nOriginal List:\\n\", List)\n",
    "  \n",
    "  \n",
    "print(\"\\nSliced Lists: \")\n",
    "  \n",
    "# Modified List\n",
    "List[2:4] = ['Geeks', 'for', 'Geeks', '!']\n",
    "  \n",
    "# Display sliced list\n",
    "print(List)\n",
    "  \n",
    "# Modified List\n",
    "List[:6] = []\n",
    "  \n",
    "# Display sliced list\n",
    "print(List)"
   ]
  },
  {
   "cell_type": "code",
   "execution_count": 9,
   "metadata": {
    "ExecuteTime": {
     "end_time": "2021-05-17T13:13:44.110910Z",
     "start_time": "2021-05-17T13:13:44.075908Z"
    }
   },
   "outputs": [
    {
     "name": "stdout",
     "output_type": "stream",
     "text": [
      "\n",
      "Original List:\n",
      " [1, 2, 3, 4, 5, 6, 7, 8, 9]\n",
      "\n",
      "Sliced Lists: \n",
      "[1, 2, 3, 8, 9]\n",
      "[1, 3, 5, 7, 9, 2, 4, 6, 8]\n"
     ]
    }
   ],
   "source": [
    "# Initialize list\n",
    "List = [1, 2, 3, 4, 5, 6, 7, 8, 9]\n",
    "  \n",
    "# Show original list\n",
    "print(\"\\nOriginal List:\\n\", List)\n",
    "  \n",
    "print(\"\\nSliced Lists: \")\n",
    "  \n",
    "# Creating new List\n",
    "newList = List[:3]+List[7:]\n",
    "  \n",
    "# Display sliced list\n",
    "print(newList)\n",
    "  \n",
    "# Changng existing List\n",
    "List = List[::2]+List[1::2]\n",
    "  \n",
    "# Display sliced list\n",
    "print(List)"
   ]
  },
  {
   "cell_type": "code",
   "execution_count": 12,
   "metadata": {
    "ExecuteTime": {
     "end_time": "2021-05-17T13:27:04.930714Z",
     "start_time": "2021-05-17T13:27:04.901712Z"
    }
   },
   "outputs": [
    {
     "name": "stdout",
     "output_type": "stream",
     "text": [
      "The sum is 4950\n"
     ]
    }
   ],
   "source": [
    "# Que-3=Ans\n",
    "# Program to add natural\n",
    "# numbers up to \n",
    "# sum = 1+2+3+...+n\n",
    "\n",
    "# To take input from the user,\n",
    "# n = int(input(\"Enter n: \"))\n",
    "\n",
    "n = 99\n",
    "\n",
    "# initialize sum and counter\n",
    "sum = 0\n",
    "i = 1\n",
    "\n",
    "while i <= n:\n",
    "    sum = sum + i\n",
    "    i = i+1    # update counter\n",
    "\n",
    "# print the sum\n",
    "print(\"The sum is\", sum)"
   ]
  }
 ],
 "metadata": {
  "kernelspec": {
   "display_name": "Python 3",
   "language": "python",
   "name": "python3"
  },
  "language_info": {
   "codemirror_mode": {
    "name": "ipython",
    "version": 3
   },
   "file_extension": ".py",
   "mimetype": "text/x-python",
   "name": "python",
   "nbconvert_exporter": "python",
   "pygments_lexer": "ipython3",
   "version": "3.8.5"
  }
 },
 "nbformat": 4,
 "nbformat_minor": 4
}
